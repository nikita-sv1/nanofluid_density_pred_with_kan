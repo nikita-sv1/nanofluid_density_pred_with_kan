{
 "cells": [
  {
   "cell_type": "code",
   "execution_count": 103,
   "id": "1f16162d-fc38-47e6-a8d4-90946ebc9fa1",
   "metadata": {},
   "outputs": [],
   "source": [
    "import numpy as np\n",
    "import pandas as pd\n",
    "import matplotlib"
   ]
  },
  {
   "cell_type": "code",
   "execution_count": 104,
   "id": "6ee50a00-9210-4b6d-8def-fc7f7bd82e5e",
   "metadata": {},
   "outputs": [
    {
     "name": "stdout",
     "output_type": "stream",
     "text": [
      "DataFrame Shape: (436, 10)\n"
     ]
    },
    {
     "data": {
      "text/html": [
       "<div>\n",
       "<style scoped>\n",
       "    .dataframe tbody tr th:only-of-type {\n",
       "        vertical-align: middle;\n",
       "    }\n",
       "\n",
       "    .dataframe tbody tr th {\n",
       "        vertical-align: top;\n",
       "    }\n",
       "\n",
       "    .dataframe thead th {\n",
       "        text-align: right;\n",
       "    }\n",
       "</style>\n",
       "<table border=\"1\" class=\"dataframe\">\n",
       "  <thead>\n",
       "    <tr style=\"text-align: right;\">\n",
       "      <th></th>\n",
       "      <th>Nano Particle</th>\n",
       "      <th>Base Fluid</th>\n",
       "      <th>Temperature (°C)</th>\n",
       "      <th>Volume Concentration (ϕ)</th>\n",
       "      <th>Density of Nano Particle 1 (ρnp)</th>\n",
       "      <th>Density of Nano Particle 2 (ρnp)</th>\n",
       "      <th>Density of Base Fluid (ρbf)</th>\n",
       "      <th>Volume Mixture of Particle 1</th>\n",
       "      <th>Volume Mixture of Particle 2</th>\n",
       "      <th>Density (ρ)</th>\n",
       "    </tr>\n",
       "  </thead>\n",
       "  <tbody>\n",
       "    <tr>\n",
       "      <th>0</th>\n",
       "      <td>Al₂O₃/SiO₂</td>\n",
       "      <td>Water</td>\n",
       "      <td>20</td>\n",
       "      <td>0.05</td>\n",
       "      <td>3890</td>\n",
       "      <td>2220</td>\n",
       "      <td>998.29</td>\n",
       "      <td>20</td>\n",
       "      <td>80</td>\n",
       "      <td>1004.814815</td>\n",
       "    </tr>\n",
       "    <tr>\n",
       "      <th>1</th>\n",
       "      <td>Al₂O₃/SiO₂</td>\n",
       "      <td>Water</td>\n",
       "      <td>30</td>\n",
       "      <td>0.05</td>\n",
       "      <td>3890</td>\n",
       "      <td>2220</td>\n",
       "      <td>995.71</td>\n",
       "      <td>20</td>\n",
       "      <td>80</td>\n",
       "      <td>1002.222222</td>\n",
       "    </tr>\n",
       "    <tr>\n",
       "      <th>2</th>\n",
       "      <td>Al₂O₃/SiO₂</td>\n",
       "      <td>Water</td>\n",
       "      <td>40</td>\n",
       "      <td>0.05</td>\n",
       "      <td>3890</td>\n",
       "      <td>2220</td>\n",
       "      <td>992.25</td>\n",
       "      <td>20</td>\n",
       "      <td>80</td>\n",
       "      <td>997.037037</td>\n",
       "    </tr>\n",
       "    <tr>\n",
       "      <th>3</th>\n",
       "      <td>Al₂O₃/SiO₂</td>\n",
       "      <td>Water</td>\n",
       "      <td>50</td>\n",
       "      <td>0.05</td>\n",
       "      <td>3890</td>\n",
       "      <td>2220</td>\n",
       "      <td>988.02</td>\n",
       "      <td>20</td>\n",
       "      <td>80</td>\n",
       "      <td>994.444444</td>\n",
       "    </tr>\n",
       "    <tr>\n",
       "      <th>4</th>\n",
       "      <td>Al₂O₃/SiO₂</td>\n",
       "      <td>Water</td>\n",
       "      <td>60</td>\n",
       "      <td>0.05</td>\n",
       "      <td>3890</td>\n",
       "      <td>2220</td>\n",
       "      <td>983.13</td>\n",
       "      <td>20</td>\n",
       "      <td>80</td>\n",
       "      <td>990.000000</td>\n",
       "    </tr>\n",
       "  </tbody>\n",
       "</table>\n",
       "</div>"
      ],
      "text/plain": [
       "  Nano Particle Base Fluid  Temperature (°C)  Volume Concentration (ϕ)  \\\n",
       "0   Al₂O₃/SiO₂       Water                20                      0.05   \n",
       "1   Al₂O₃/SiO₂       Water                30                      0.05   \n",
       "2   Al₂O₃/SiO₂       Water                40                      0.05   \n",
       "3   Al₂O₃/SiO₂       Water                50                      0.05   \n",
       "4   Al₂O₃/SiO₂       Water                60                      0.05   \n",
       "\n",
       "   Density of Nano Particle 1 (ρnp)  Density of Nano Particle 2 (ρnp)  \\\n",
       "0                              3890                              2220   \n",
       "1                              3890                              2220   \n",
       "2                              3890                              2220   \n",
       "3                              3890                              2220   \n",
       "4                              3890                              2220   \n",
       "\n",
       "   Density of Base Fluid (ρbf)  Volume Mixture of Particle 1  \\\n",
       "0                       998.29                            20   \n",
       "1                       995.71                            20   \n",
       "2                       992.25                            20   \n",
       "3                       988.02                            20   \n",
       "4                       983.13                            20   \n",
       "\n",
       "   Volume Mixture of Particle 2  Density (ρ)  \n",
       "0                            80  1004.814815  \n",
       "1                            80  1002.222222  \n",
       "2                            80   997.037037  \n",
       "3                            80   994.444444  \n",
       "4                            80   990.000000  "
      ]
     },
     "execution_count": 104,
     "metadata": {},
     "output_type": "execute_result"
    }
   ],
   "source": [
    "data_path = 'D:/kagglehub/kagglehub/datasets/ai4a-lab/nanofluid-density-prediction/versions/1/Density_Prediction_Dataset.csv'\n",
    "df = pd.read_csv(data_path, encoding='UTF-8-SIG')\n",
    "\n",
    "print('DataFrame Shape:', df.shape)\n",
    "df.head()"
   ]
  },
  {
   "cell_type": "code",
   "execution_count": 105,
   "id": "c6ad7a32-dcb2-41a3-9b90-1c431242776a",
   "metadata": {},
   "outputs": [],
   "source": [
    "df[df.columns[3:]].corr();"
   ]
  },
  {
   "cell_type": "code",
   "execution_count": 106,
   "id": "736ec3ac-a652-4701-bc85-ba2837a22ef3",
   "metadata": {},
   "outputs": [],
   "source": [
    "# Проверка на дубликаты\n",
    "duplicates = df.duplicated().sum()\n",
    "\n",
    "# Удаление дубликатов (если они есть)\n",
    "if duplicates > 0:\n",
    "    df = df.drop_duplicates()\n",
    "\n",
    "# Проверка на пропущенные значения\n",
    "missing_values = df.isnull().sum()\n",
    "\n",
    "# Удаление строк с пропущенными значениями\n",
    "initial_rows = df.shape[0]\n",
    "df = df.dropna()\n",
    "final_rows = df.shape[0]\n",
    "removed_rows = initial_rows - final_rows"
   ]
  },
  {
   "cell_type": "code",
   "execution_count": 107,
   "id": "003f7d3c-2533-4610-999f-4a6dc3975dfc",
   "metadata": {},
   "outputs": [],
   "source": [
    "data = df.values.tolist()\n",
    "\n",
    "features = [row[:-1] for row in data]\n",
    "\n",
    "labels = [row[-1] for row in data]\n",
    "labels_origin = labels.copy()"
   ]
  },
  {
   "cell_type": "code",
   "execution_count": 108,
   "id": "24e72110-9e8c-4950-9895-e874c53fd3c2",
   "metadata": {},
   "outputs": [],
   "source": [
    "import pandas as pd\n",
    "\n",
    "# Извлечем первые два столбца (категориальные признаки)\n",
    "cat_col1 = [item[0] for item in features] \n",
    "cat_col2 = [item[1] for item in features]  \n",
    "\n",
    "# Остальные признаки (числовые)\n",
    "remaining_features = [item[2:] for item in features]"
   ]
  },
  {
   "cell_type": "code",
   "execution_count": 109,
   "id": "1cdfe8b8-9db1-4314-90f3-15be1a0e359c",
   "metadata": {},
   "outputs": [],
   "source": [
    "# Создаем временный DataFrame для one-hot кодирования\n",
    "df_cat = pd.DataFrame({\n",
    "    'cat1': cat_col1,\n",
    "    'cat2': cat_col2\n",
    "})\n",
    "\n",
    "df_cat_encoded = pd.get_dummies(df_cat, prefix=['cat1', 'cat2'], dtype=int)\n",
    "cat_encoded = df_cat_encoded.values.tolist()"
   ]
  },
  {
   "cell_type": "code",
   "execution_count": 110,
   "id": "7e46bd86-1fd6-4cc1-9ba5-00daeb1bb5af",
   "metadata": {},
   "outputs": [],
   "source": [
    "# Объединяем закодированные категориальные признаки с числовыми\n",
    "features_processed = [\n",
    "    cat_encoded[i] + remaining_features[i] \n",
    "    for i in range(len(features))\n",
    "]\n"
   ]
  },
  {
   "cell_type": "code",
   "execution_count": 111,
   "id": "8389ef9e-c581-4942-804e-f134440e7b46",
   "metadata": {},
   "outputs": [],
   "source": [
    "import numpy as np\n",
    "from sklearn.preprocessing import MinMaxScaler\n",
    "\n",
    "numeric_data = np.array([row[18:] for row in features_processed], dtype=float)\n",
    "\n",
    "# Инициализируем MinMaxScaler, устанавливаем границы (-1, 1)\n",
    "scaler = MinMaxScaler(feature_range=(-1, 1))\n",
    "\n",
    "labels = np.array(labels)\n",
    "\n",
    "numeric_data_norm = scaler.fit_transform(numeric_data)\n",
    "labels = scaler.fit_transform(labels.reshape(-1,1))\n",
    "# Собираем обратно полный набор признаков\n",
    "features_normalized = []\n",
    "for i, row in enumerate(features_processed):\n",
    "    # Сохраняем первые 18 категориальных признаков без изменений\n",
    "    new_row = list(row[:18])\n",
    "    new_row.extend(numeric_data_norm[i].tolist())\n",
    "    features_normalized.append(new_row)"
   ]
  },
  {
   "cell_type": "code",
   "execution_count": 112,
   "id": "5db409e0-50a4-4f2f-859a-d1efd520729d",
   "metadata": {},
   "outputs": [],
   "source": [
    "features_normalized = [lst[:-1] for lst in features_normalized]\n",
    "features_processed = [row[:-1] for row in features_processed]"
   ]
  },
  {
   "cell_type": "code",
   "execution_count": 113,
   "id": "40533c6c-8840-478f-9898-4c3479b4902e",
   "metadata": {},
   "outputs": [],
   "source": [
    "features_normalized = np.array(features_normalized)\n",
    "features_processed= np.array(features_processed)\n",
    "labels = np.array(labels)\n",
    "labels_origin = np.array(labels_origin)"
   ]
  },
  {
   "cell_type": "code",
   "execution_count": null,
   "id": "0e9525c2-917a-47f9-bb86-e6e2f9ed83c3",
   "metadata": {},
   "outputs": [],
   "source": []
  }
 ],
 "metadata": {
  "kernelspec": {
   "display_name": "Python 3 (ipykernel)",
   "language": "python",
   "name": "python3"
  },
  "language_info": {
   "codemirror_mode": {
    "name": "ipython",
    "version": 3
   },
   "file_extension": ".py",
   "mimetype": "text/x-python",
   "name": "python",
   "nbconvert_exporter": "python",
   "pygments_lexer": "ipython3",
   "version": "3.12.4"
  }
 },
 "nbformat": 4,
 "nbformat_minor": 5
}
